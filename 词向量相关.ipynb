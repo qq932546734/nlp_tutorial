{
 "cells": [
  {
   "cell_type": "markdown",
   "metadata": {},
   "source": [
    "### 词向量 \n",
    "\n",
    "对于非bert类型的模型，一般都采用词向量。虽然我们可以在训练下游模型的时候随机初始化词向量并训练词向量，但使用在大规模数据集上预训练的词向量往往能极大地加速模型收敛速度。因此，一般都会先加载预训练好的词向量，"
   ]
  }
 ],
 "metadata": {
  "kernelspec": {
   "display_name": "Python 3",
   "language": "python",
   "name": "python3"
  },
  "language_info": {
   "codemirror_mode": {
    "name": "ipython",
    "version": 3
   },
   "file_extension": ".py",
   "mimetype": "text/x-python",
   "name": "python",
   "nbconvert_exporter": "python",
   "pygments_lexer": "ipython3",
   "version": "3.8.3"
  }
 },
 "nbformat": 4,
 "nbformat_minor": 4
}
